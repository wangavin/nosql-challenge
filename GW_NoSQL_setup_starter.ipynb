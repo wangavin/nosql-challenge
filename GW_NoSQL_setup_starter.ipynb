{
 "cells": [
  {
   "cell_type": "markdown",
   "id": "9a57c4c6",
   "metadata": {},
   "source": [
    "# Eat Safe, Love"
   ]
  },
  {
   "cell_type": "markdown",
   "id": "064ef857",
   "metadata": {},
   "source": [
    "## Part 1: Database and Jupyter Notebook Set Up"
   ]
  },
  {
   "cell_type": "markdown",
   "id": "664e3c1f",
   "metadata": {},
   "source": [
    "Import the data provided in the `establishments.json` file from your Terminal. Name the database `uk_food` and the collection `establishments`.\n",
    "\n",
    "Within this markdown cell, copy the line of text you used to import the data from your Terminal. This way, future analysts will be able to repeat your process.\n",
    "\n",
    "e.g.: Import the dataset with `YOUR IMPORT TEXT HERE`"
   ]
  },
  {
   "cell_type": "code",
   "execution_count": 72,
   "id": "3ecdd008",
   "metadata": {},
   "outputs": [],
   "source": [
    "# Import dependencies\n",
    "from pymongo import MongoClient\n",
    "from pprint import pprint\n",
    "import pandas as pd"
   ]
  },
  {
   "cell_type": "code",
   "execution_count": 73,
   "id": "59390c4a",
   "metadata": {},
   "outputs": [],
   "source": [
    "# Create an instance of MongoClient\n",
    "mongo = MongoClient(port=27017)"
   ]
  },
  {
   "cell_type": "code",
   "execution_count": 74,
   "id": "7f9ececa",
   "metadata": {},
   "outputs": [
    {
     "name": "stdout",
     "output_type": "stream",
     "text": [
      "['admin', 'config', 'epa', 'gardenDB', 'local', 'met', 'petsitly_marketing', 'travel_db', 'uk_food']\n"
     ]
    }
   ],
   "source": [
    "# confirm that our new database was created\n",
    "print(mongo.list_database_names())"
   ]
  },
  {
   "cell_type": "code",
   "execution_count": 75,
   "id": "71e373c1",
   "metadata": {},
   "outputs": [
    {
     "data": {
      "text/plain": [
       "Database(MongoClient(host=['localhost:27017'], document_class=dict, tz_aware=False, connect=True), 'uk_food')"
      ]
     },
     "execution_count": 75,
     "metadata": {},
     "output_type": "execute_result"
    }
   ],
   "source": [
    "# assign the uk_food database to a variable name\n",
    "db = mongo['uk_food']\n",
    "db"
   ]
  },
  {
   "cell_type": "code",
   "execution_count": 76,
   "id": "ef1b89ed",
   "metadata": {},
   "outputs": [
    {
     "name": "stdout",
     "output_type": "stream",
     "text": [
      "['establishments']\n"
     ]
    }
   ],
   "source": [
    "# review the collections in our new database\n",
    "print(db.list_collection_names())"
   ]
  },
  {
   "cell_type": "code",
   "execution_count": 77,
   "id": "6a0d92df",
   "metadata": {},
   "outputs": [
    {
     "name": "stdout",
     "output_type": "stream",
     "text": [
      "{'AddressLine1': '1 The Droveway',\n",
      " 'AddressLine2': 'St Margarets Bay',\n",
      " 'AddressLine3': 'Kent',\n",
      " 'AddressLine4': '',\n",
      " 'BusinessName': 'FirstLight Bar & Café',\n",
      " 'BusinessType': 'Restaurant/Cafe/Canteen',\n",
      " 'BusinessTypeID': 1,\n",
      " 'ChangesByServerID': 0,\n",
      " 'Distance': 4587.64041272672,\n",
      " 'FHRSID': 1290215,\n",
      " 'LocalAuthorityBusinessID': 'PI/000083029',\n",
      " 'LocalAuthorityCode': '182',\n",
      " 'LocalAuthorityEmailAddress': 'publicprotection@dover.gov.uk',\n",
      " 'LocalAuthorityName': 'Dover',\n",
      " 'LocalAuthorityWebSite': 'http://www.dover.gov.uk/',\n",
      " 'NewRatingPending': False,\n",
      " 'Phone': '',\n",
      " 'PostCode': 'CT15 6DH',\n",
      " 'RatingDate': '2020-11-09T00:00:00',\n",
      " 'RatingKey': 'fhrs_5_en-gb',\n",
      " 'RatingValue': '5',\n",
      " 'RightToReply': '',\n",
      " 'SchemeType': 'FHRS',\n",
      " '_id': ObjectId('641623e00d38da3186da56b1'),\n",
      " 'geocode': {'latitude': '51.150625', 'longitude': '1.378231'},\n",
      " 'links': [{'href': 'https://api.ratings.food.gov.uk/establishments/1290215',\n",
      "            'rel': 'self'}],\n",
      " 'meta': {'dataSource': None,\n",
      "          'extractDate': '0001-01-01T00:00:00',\n",
      "          'itemCount': 0,\n",
      "          'pageNumber': 0,\n",
      "          'pageSize': 0,\n",
      "          'returncode': None,\n",
      "          'totalCount': 0,\n",
      "          'totalPages': 0},\n",
      " 'scores': {'ConfidenceInManagement': 5, 'Hygiene': 5, 'Structural': 5}}\n"
     ]
    }
   ],
   "source": [
    "# review a document in the establishments collection\n",
    "pprint(db.establishments.find_one())\n"
   ]
  },
  {
   "cell_type": "code",
   "execution_count": 78,
   "id": "11c9f11b",
   "metadata": {},
   "outputs": [
    {
     "data": {
      "text/plain": [
       "Collection(Database(MongoClient(host=['localhost:27017'], document_class=dict, tz_aware=False, connect=True), 'uk_food'), 'establishments')"
      ]
     },
     "execution_count": 78,
     "metadata": {},
     "output_type": "execute_result"
    }
   ],
   "source": [
    "# assign the collection to a variable\n",
    "establishments = db['establishments']\n",
    "establishments"
   ]
  },
  {
   "cell_type": "markdown",
   "id": "d5671434",
   "metadata": {},
   "source": [
    "## Part 2: Update the Database"
   ]
  },
  {
   "attachments": {},
   "cell_type": "markdown",
   "id": "314bd884",
   "metadata": {},
   "source": [
    "1. An exciting new halal restaurant just opened in Greenwich, but hasn't been rated yet. The magazine has asked you to include it in your analysis. Add the following restaurant 'Penang Flavours' to the database."
   ]
  },
  {
   "cell_type": "code",
   "execution_count": 79,
   "id": "c2da7648",
   "metadata": {},
   "outputs": [],
   "source": [
    "# Create a dictionary for the new restaurant data\n",
    "new_halal_restaurant = {'AddressLine1': 'London',\n",
    " 'AddressLine2': '172 Woolwich Rd',\n",
    " 'AddressLine3': 'Greenwich',\n",
    " 'AddressLine4': '',\n",
    " 'BusinessName': 'Penang Flavours',\n",
    " 'BusinessType': 'Restaurant/Halal/Breakfast',\n",
    " 'BusinessTypeID': 101,\n",
    " 'ChangesByServerID': 0,\n",
    " 'Distance': 4587.347174863443,\n",
    " 'FHRSID': 254719,\n",
    " 'LocalAuthorityBusinessID': 'PI/000079981',\n",
    " 'LocalAuthorityCode': '182',\n",
    " 'LocalAuthorityEmailAddress': 'publicprotection@dover.gov.uk',\n",
    " 'LocalAuthorityName': 'Dover',\n",
    " 'LocalAuthorityWebSite': 'http://www.dover.gov.uk/',\n",
    " 'NewRatingPending': False,\n",
    " 'Phone': '44 20 8465 5522',\n",
    " 'PostCode': 'SE7 7RA',\n",
    " 'RatingDate': '2023-03-18T00:00:00',\n",
    " 'RatingKey': 'fhrs_5_en-gb',\n",
    " 'RatingValue': '4.3',\n",
    " 'RightToReply': '',\n",
    " 'SchemeType': 'FHRS',\n",
    " '_id': {'ObjectId':('6415f3ce174e8920bf50734e')},\n",
    " 'geocode': {'latitude': '51.4866', 'longitude': '0.0203'},\n",
    " 'links': [{'href': 'https://api.ratings.food.gov.uk/establishments/254719',\n",
    "            'rel': 'self'}],\n",
    " 'meta': {'dataSource': None,\n",
    "          'extractDate': '0001-01-01T00:00:00',\n",
    "          'itemCount': 0,\n",
    "          'pageNumber': 0,\n",
    "          'pageSize': 0,\n",
    "          'returncode': None,\n",
    "          'totalCount': 0,\n",
    "          'totalPages': 0},\n",
    " 'scores': {'ConfidenceInManagement': 3, 'Hygiene': 5, 'Structural': 3}}"
   ]
  },
  {
   "cell_type": "code",
   "execution_count": 80,
   "id": "a6e5cece",
   "metadata": {},
   "outputs": [
    {
     "name": "stdout",
     "output_type": "stream",
     "text": [
      "<pymongo.results.InsertOneResult object at 0x7ff428387af0>\n"
     ]
    }
   ],
   "source": [
    "# Insert the new restaurant into the collection\n",
    "result = establishments.insert_one(new_halal_restaurant)\n",
    "print(result)"
   ]
  },
  {
   "cell_type": "code",
   "execution_count": 81,
   "id": "63bb10f9",
   "metadata": {},
   "outputs": [
    {
     "name": "stdout",
     "output_type": "stream",
     "text": [
      "{'AddressLine1': 'London',\n",
      " 'AddressLine2': '172 Woolwich Rd',\n",
      " 'AddressLine3': 'Greenwich',\n",
      " 'AddressLine4': '',\n",
      " 'BusinessName': 'Penang Flavours',\n",
      " 'BusinessType': 'Restaurant/Halal/Breakfast',\n",
      " 'BusinessTypeID': 101,\n",
      " 'ChangesByServerID': 0,\n",
      " 'Distance': 4587.347174863443,\n",
      " 'FHRSID': 254719,\n",
      " 'LocalAuthorityBusinessID': 'PI/000079981',\n",
      " 'LocalAuthorityCode': '182',\n",
      " 'LocalAuthorityEmailAddress': 'publicprotection@dover.gov.uk',\n",
      " 'LocalAuthorityName': 'Dover',\n",
      " 'LocalAuthorityWebSite': 'http://www.dover.gov.uk/',\n",
      " 'NewRatingPending': False,\n",
      " 'Phone': '44 20 8465 5522',\n",
      " 'PostCode': 'SE7 7RA',\n",
      " 'RatingDate': '2023-03-18T00:00:00',\n",
      " 'RatingKey': 'fhrs_5_en-gb',\n",
      " 'RatingValue': '4.3',\n",
      " 'RightToReply': '',\n",
      " 'SchemeType': 'FHRS',\n",
      " '_id': {'ObjectId': '6415f3ce174e8920bf50734e'},\n",
      " 'geocode': {'latitude': '51.4866', 'longitude': '0.0203'},\n",
      " 'links': [{'href': 'https://api.ratings.food.gov.uk/establishments/254719',\n",
      "            'rel': 'self'}],\n",
      " 'meta': {'dataSource': None,\n",
      "          'extractDate': '0001-01-01T00:00:00',\n",
      "          'itemCount': 0,\n",
      "          'pageNumber': 0,\n",
      "          'pageSize': 0,\n",
      "          'returncode': None,\n",
      "          'totalCount': 0,\n",
      "          'totalPages': 0},\n",
      " 'scores': {'ConfidenceInManagement': 3, 'Hygiene': 5, 'Structural': 3}}\n"
     ]
    }
   ],
   "source": [
    "# Check that the new restaurant was inserted\n",
    "pprint(db.establishments.find_one({'BusinessName': 'Penang Flavours'}))"
   ]
  },
  {
   "attachments": {},
   "cell_type": "markdown",
   "id": "0ef4395a",
   "metadata": {},
   "source": [
    "2. Find the BusinessTypeID for 'Restaurant/Cafe/Canteen' and return only the `BusinessTypeID` and `BusinessType` fields."
   ]
  },
  {
   "cell_type": "code",
   "execution_count": 82,
   "id": "01a88cc3",
   "metadata": {},
   "outputs": [
    {
     "name": "stdout",
     "output_type": "stream",
     "text": [
      "{1: 'Restaurant/Cafe/Canteen',\n",
      " 5: 'Caring Premises',\n",
      " 7: 'Distributors/Transporters',\n",
      " 14: 'Importers/Exporters',\n",
      " 101: 'Restaurant/Halal/Breakfast',\n",
      " 4613: 'Retailers - other',\n",
      " 7838: 'Farmers/growers',\n",
      " 7839: 'Manufacturers/packers',\n",
      " 7840: 'Retailers - supermarkets/hypermarkets',\n",
      " 7841: 'Other catering premises',\n",
      " 7842: 'Hotel/bed & breakfast/guest house',\n",
      " 7843: 'Pub/bar/nightclub',\n",
      " 7844: 'Takeaway/sandwich shop',\n",
      " 7845: 'School/college/university',\n",
      " 7846: 'Mobile caterer'}\n"
     ]
    }
   ],
   "source": [
    "# Find the BusinessTypeID for 'Restaurant/Cafe/Canteen' and return only the BusinessTypeID and BusinessType fields\n",
    "# Create BusinessType fields dictionary\n",
    "bt_id_dict = {}\n",
    "# looking the list under the establishments dictionary\n",
    "bt_list = establishments.find({})\n",
    "# set the BusinessTypeID and BusinessType fields to the dictionary\n",
    "for establishments_dict in bt_list:\n",
    "    bt_id_dict[establishments_dict['BusinessTypeID']] = establishments_dict['BusinessType']\n",
    "pprint(bt_id_dict)\n"
   ]
  },
  {
   "cell_type": "code",
   "execution_count": 93,
   "id": "93bb2947",
   "metadata": {},
   "outputs": [
    {
     "name": "stdout",
     "output_type": "stream",
     "text": [
      "{'BusinessType': 'Restaurant/Cafe/Canteen'}\n",
      "{'BusinessType': 'Restaurant/Halal/Breakfast'}\n",
      "{'BusinessType': 'School/college/university'}\n"
     ]
    }
   ],
   "source": [
    "query = {'BusinessTypeID': 1}\n",
    "btype = {'BusinessType': 1, '_id': 0}\n",
    "result_1 = establishments.find_one(query, btype)\n",
    "pprint(result_1)\n",
    "\n",
    "query_2 = {'BusinessTypeID': 101}\n",
    "btype_2 = {'BusinessType': 1, '_id': 0}\n",
    "result_2 = establishments.find_one(query_2, btype_2)\n",
    "pprint(result_2)\n",
    "\n",
    "query_3 = {'BusinessTypeID': 7845}\n",
    "btype_3 = {'BusinessType': 1, '_id': 0}\n",
    "result_3 = establishments.find_one(query_3, btype_3)\n",
    "pprint(result_3)"
   ]
  },
  {
   "cell_type": "markdown",
   "id": "4e570caf",
   "metadata": {},
   "source": [
    "3. Update the new restaurant with the `BusinessTypeID` you found."
   ]
  },
  {
   "cell_type": "code",
   "execution_count": 94,
   "id": "26cf65e6",
   "metadata": {},
   "outputs": [],
   "source": [
    "# Update the new restaurant with the correct BusinessTypeID\n",
    "query_change = {'BusinessType': 'Restaurant/Halal/Breakfast'}\n",
    "new_id = {'$set': {'BusinessTypeID': 7847}}\n",
    "result = establishments.update_one(query_change, new_id)"
   ]
  },
  {
   "cell_type": "code",
   "execution_count": 96,
   "id": "4836f68d",
   "metadata": {},
   "outputs": [
    {
     "name": "stdout",
     "output_type": "stream",
     "text": [
      "1 document updated.\n",
      "{'AddressLine1': 'London',\n",
      " 'AddressLine2': '172 Woolwich Rd',\n",
      " 'AddressLine3': 'Greenwich',\n",
      " 'AddressLine4': '',\n",
      " 'BusinessName': 'Penang Flavours',\n",
      " 'BusinessType': 'Restaurant/Halal/Breakfast',\n",
      " 'BusinessTypeID': 7847,\n",
      " 'ChangesByServerID': 0,\n",
      " 'Distance': 4587.347174863443,\n",
      " 'FHRSID': 254719,\n",
      " 'LocalAuthorityBusinessID': 'PI/000079981',\n",
      " 'LocalAuthorityCode': '182',\n",
      " 'LocalAuthorityEmailAddress': 'publicprotection@dover.gov.uk',\n",
      " 'LocalAuthorityName': 'Dover',\n",
      " 'LocalAuthorityWebSite': 'http://www.dover.gov.uk/',\n",
      " 'NewRatingPending': False,\n",
      " 'Phone': '44 20 8465 5522',\n",
      " 'PostCode': 'SE7 7RA',\n",
      " 'RatingDate': '2023-03-18T00:00:00',\n",
      " 'RatingKey': 'fhrs_5_en-gb',\n",
      " 'RatingValue': '4.3',\n",
      " 'RightToReply': '',\n",
      " 'SchemeType': 'FHRS',\n",
      " '_id': {'ObjectId': '6415f3ce174e8920bf50734e'},\n",
      " 'geocode': {'latitude': '51.4866', 'longitude': '0.0203'},\n",
      " 'links': [{'href': 'https://api.ratings.food.gov.uk/establishments/254719',\n",
      "            'rel': 'self'}],\n",
      " 'meta': {'dataSource': None,\n",
      "          'extractDate': '0001-01-01T00:00:00',\n",
      "          'itemCount': 0,\n",
      "          'pageNumber': 0,\n",
      "          'pageSize': 0,\n",
      "          'returncode': None,\n",
      "          'totalCount': 0,\n",
      "          'totalPages': 0},\n",
      " 'scores': {'ConfidenceInManagement': 3, 'Hygiene': 5, 'Structural': 3}}\n"
     ]
    }
   ],
   "source": [
    "# Confirm that the new restaurant was updated.\n",
    "print(result.modified_count, \"document updated.\")\n",
    "pprint(db.establishments.find_one({'BusinessName': 'Penang Flavours'}))"
   ]
  },
  {
   "cell_type": "markdown",
   "id": "67281254",
   "metadata": {},
   "source": [
    "4. The magazine is not interested in any establishments in Dover, so check how many documents contain the Dover Local Authority. Then, remove any establishments within the Dover Local Authority from the database, and check the number of documents to ensure they were deleted."
   ]
  },
  {
   "cell_type": "code",
   "execution_count": 103,
   "id": "768474a6",
   "metadata": {},
   "outputs": [
    {
     "name": "stdout",
     "output_type": "stream",
     "text": [
      "Total number of Dover: 995\n"
     ]
    }
   ],
   "source": [
    "# Find how many documents have LocalAuthorityName as 'Dover'\n",
    "doc_dover = establishments.count_documents({'LocalAuthorityName': 'Dover'})\n",
    "print(f\"Total number of Dover: {doc_dover}\")\n"
   ]
  },
  {
   "cell_type": "code",
   "execution_count": 107,
   "id": "a11d5f1b",
   "metadata": {},
   "outputs": [
    {
     "name": "stdout",
     "output_type": "stream",
     "text": [
      "<pymongo.results.DeleteResult object at 0x7ff4396a0500>\n"
     ]
    }
   ],
   "source": [
    "# Delete all documents where LocalAuthorityName is 'Dover'\n",
    "dover_dict = {'LocalAuthorityName': 'Dover'}\n",
    "result = establishments.delete_many(dover_dict)\n",
    "print(result)"
   ]
  },
  {
   "cell_type": "code",
   "execution_count": 108,
   "id": "2a51aba0",
   "metadata": {},
   "outputs": [
    {
     "name": "stdout",
     "output_type": "stream",
     "text": [
      "0\n"
     ]
    }
   ],
   "source": [
    "# Check if any remaining documents include Dover\n",
    "dover_count = establishments.count_documents({'LocalAuthorityName': 'Dover'})\n",
    "print(dover_count)"
   ]
  },
  {
   "cell_type": "code",
   "execution_count": 109,
   "id": "8c356f7b",
   "metadata": {},
   "outputs": [
    {
     "name": "stdout",
     "output_type": "stream",
     "text": [
      "38785\n"
     ]
    }
   ],
   "source": [
    "# Check that other documents remain with 'find_one'\n",
    "count = establishments.count_documents({})\n",
    "print(count)"
   ]
  },
  {
   "cell_type": "markdown",
   "id": "e9f1662d",
   "metadata": {},
   "source": [
    "5. Some of the number values are stored as strings, when they should be stored as numbers. Use `update_many` to convert `latitude` and `longitude` to decimal numbers."
   ]
  },
  {
   "cell_type": "code",
   "execution_count": 112,
   "id": "fd4112ce",
   "metadata": {},
   "outputs": [
    {
     "ename": "TypeError",
     "evalue": "'int' object is not subscriptable",
     "output_type": "error",
     "traceback": [
      "\u001b[0;31m---------------------------------------------------------------------------\u001b[0m",
      "\u001b[0;31mTypeError\u001b[0m                                 Traceback (most recent call last)",
      "\u001b[0;32m/var/folders/5z/khlpwxgd7gn7qtl8_b8fss480000gn/T/ipykernel_66174/1006852155.py\u001b[0m in \u001b[0;36m<module>\u001b[0;34m\u001b[0m\n\u001b[1;32m      1\u001b[0m \u001b[0;31m# Change the data type from String to Decimal for longitude\u001b[0m\u001b[0;34m\u001b[0m\u001b[0;34m\u001b[0m\u001b[0;34m\u001b[0m\u001b[0m\n\u001b[0;32m----> 2\u001b[0;31m \u001b[0mlongitude_types\u001b[0m \u001b[0;34m=\u001b[0m \u001b[0mestablishments\u001b[0m\u001b[0;34m.\u001b[0m\u001b[0mcount_documents\u001b[0m\u001b[0;34m(\u001b[0m\u001b[0;34m{\u001b[0m\u001b[0;34m'geocode'\u001b[0m\u001b[0;34m:\u001b[0m \u001b[0;34m{\u001b[0m\u001b[0;34m'latitude'\u001b[0m\u001b[0;34m:\u001b[0m \u001b[0;34m''\u001b[0m\u001b[0;34m,\u001b[0m \u001b[0;34m'longitude'\u001b[0m\u001b[0;34m:\u001b[0m \u001b[0;34m''\u001b[0m\u001b[0;34m}\u001b[0m\u001b[0;34m}\u001b[0m\u001b[0;34m)\u001b[0m\u001b[0;34m[\u001b[0m\u001b[0;34m\"type\"\u001b[0m\u001b[0;34m]\u001b[0m\u001b[0;34m\u001b[0m\u001b[0;34m\u001b[0m\u001b[0m\n\u001b[0m\u001b[1;32m      3\u001b[0m \u001b[0mlongitude_types\u001b[0m\u001b[0;34m\u001b[0m\u001b[0;34m\u001b[0m\u001b[0m\n",
      "\u001b[0;31mTypeError\u001b[0m: 'int' object is not subscriptable"
     ]
    }
   ],
   "source": [
    "# Change the data type from String to Decimal for longitude\n",
    "longitude_types = establishments.count_documents({'geocode': {'latitude': '', 'longitude': ''}})[\"type\"]\n",
    "longitude_types"
   ]
  },
  {
   "cell_type": "code",
   "execution_count": null,
   "id": "08dd7c72",
   "metadata": {},
   "outputs": [],
   "source": [
    "# Change the data type from String to Decimal for latitude\n"
   ]
  },
  {
   "cell_type": "code",
   "execution_count": null,
   "id": "0deacaf9",
   "metadata": {},
   "outputs": [],
   "source": [
    "# Check that the coordinates are now numbers\n"
   ]
  }
 ],
 "metadata": {
  "kernelspec": {
   "display_name": "Python 3",
   "language": "python",
   "name": "python3"
  },
  "language_info": {
   "codemirror_mode": {
    "name": "ipython",
    "version": 3
   },
   "file_extension": ".py",
   "mimetype": "text/x-python",
   "name": "python",
   "nbconvert_exporter": "python",
   "pygments_lexer": "ipython3",
   "version": "3.7.7"
  }
 },
 "nbformat": 4,
 "nbformat_minor": 5
}
