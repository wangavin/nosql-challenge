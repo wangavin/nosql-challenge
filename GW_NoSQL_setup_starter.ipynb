{
 "cells": [
  {
   "cell_type": "markdown",
   "id": "9a57c4c6",
   "metadata": {},
   "source": [
    "# Eat Safe, Love"
   ]
  },
  {
   "cell_type": "markdown",
   "id": "064ef857",
   "metadata": {},
   "source": [
    "## Part 1: Database and Jupyter Notebook Set Up"
   ]
  },
  {
   "cell_type": "markdown",
   "id": "664e3c1f",
   "metadata": {},
   "source": [
    "Import the data provided in the `establishments.json` file from your Terminal. Name the database `uk_food` and the collection `establishments`.\n",
    "\n",
    "Within this markdown cell, copy the line of text you used to import the data from your Terminal. This way, future analysts will be able to repeat your process.\n",
    "\n",
    "e.g.: Import the dataset with `YOUR IMPORT TEXT HERE`"
   ]
  },
  {
   "cell_type": "code",
   "execution_count": 154,
   "id": "3ecdd008",
   "metadata": {},
   "outputs": [],
   "source": [
    "# Import dependencies\n",
    "from pymongo import MongoClient\n",
    "from pprint import pprint\n",
    "import pandas as pd\n",
    "from decimal import Decimal"
   ]
  },
  {
   "cell_type": "code",
   "execution_count": 155,
   "id": "59390c4a",
   "metadata": {},
   "outputs": [],
   "source": [
    "# Create an instance of MongoClient\n",
    "mongo = MongoClient(port=27017)"
   ]
  },
  {
   "cell_type": "code",
   "execution_count": 156,
   "id": "7f9ececa",
   "metadata": {},
   "outputs": [
    {
     "name": "stdout",
     "output_type": "stream",
     "text": [
      "['admin', 'config', 'epa', 'gardenDB', 'local', 'met', 'petsitly_marketing', 'travel_db', 'uk_food']\n"
     ]
    }
   ],
   "source": [
    "# confirm that our new database was created\n",
    "print(mongo.list_database_names())"
   ]
  },
  {
   "cell_type": "code",
   "execution_count": 157,
   "id": "71e373c1",
   "metadata": {},
   "outputs": [
    {
     "data": {
      "text/plain": [
       "Database(MongoClient(host=['localhost:27017'], document_class=dict, tz_aware=False, connect=True), 'uk_food')"
      ]
     },
     "execution_count": 157,
     "metadata": {},
     "output_type": "execute_result"
    }
   ],
   "source": [
    "# assign the uk_food database to a variable name\n",
    "db = mongo['uk_food']\n",
    "db"
   ]
  },
  {
   "cell_type": "code",
   "execution_count": 158,
   "id": "ef1b89ed",
   "metadata": {},
   "outputs": [
    {
     "name": "stdout",
     "output_type": "stream",
     "text": [
      "['establishments']\n"
     ]
    }
   ],
   "source": [
    "# review the collections in our new database\n",
    "print(db.list_collection_names())"
   ]
  },
  {
   "cell_type": "code",
   "execution_count": 159,
   "id": "6a0d92df",
   "metadata": {},
   "outputs": [
    {
     "name": "stdout",
     "output_type": "stream",
     "text": [
      "{'AddressLine1': 'Wear Bay Road',\n",
      " 'AddressLine2': 'Folkestone',\n",
      " 'AddressLine3': 'Kent',\n",
      " 'AddressLine4': '',\n",
      " 'BusinessName': 'Wear Bay Bowls Club',\n",
      " 'BusinessType': 'Pub/bar/nightclub',\n",
      " 'BusinessTypeID': 7843,\n",
      " 'ChangesByServerID': 0,\n",
      " 'Distance': 4591.821311183521,\n",
      " 'FHRSID': 647177,\n",
      " 'LocalAuthorityBusinessID': 'PI/000041489',\n",
      " 'LocalAuthorityCode': '188',\n",
      " 'LocalAuthorityEmailAddress': 'foodteam@folkestone-hythe.gov.uk',\n",
      " 'LocalAuthorityName': 'Folkestone and Hythe',\n",
      " 'LocalAuthorityWebSite': 'http://www.folkestone-hythe.gov.uk',\n",
      " 'NewRatingPending': False,\n",
      " 'Phone': '',\n",
      " 'PostCode': 'CT19 6PY',\n",
      " 'RatingDate': '2014-03-31T00:00:00',\n",
      " 'RatingKey': 'fhrs_4_en-gb',\n",
      " 'RatingValue': '4',\n",
      " 'RightToReply': '',\n",
      " 'SchemeType': 'FHRS',\n",
      " '_id': ObjectId('641623e00d38da3186da5996'),\n",
      " 'geocode': {'latitude': '51.086058', 'longitude': '1.196408'},\n",
      " 'links': [{'href': 'https://api.ratings.food.gov.uk/establishments/647177',\n",
      "            'rel': 'self'}],\n",
      " 'meta': {'dataSource': None,\n",
      "          'extractDate': '0001-01-01T00:00:00',\n",
      "          'itemCount': 0,\n",
      "          'pageNumber': 0,\n",
      "          'pageSize': 0,\n",
      "          'returncode': None,\n",
      "          'totalCount': 0,\n",
      "          'totalPages': 0},\n",
      " 'scores': {'ConfidenceInManagement': 10, 'Hygiene': 5, 'Structural': 5}}\n"
     ]
    }
   ],
   "source": [
    "# review a document in the establishments collection\n",
    "pprint(db.establishments.find_one())\n"
   ]
  },
  {
   "cell_type": "code",
   "execution_count": 160,
   "id": "11c9f11b",
   "metadata": {},
   "outputs": [
    {
     "data": {
      "text/plain": [
       "Collection(Database(MongoClient(host=['localhost:27017'], document_class=dict, tz_aware=False, connect=True), 'uk_food'), 'establishments')"
      ]
     },
     "execution_count": 160,
     "metadata": {},
     "output_type": "execute_result"
    }
   ],
   "source": [
    "# assign the collection to a variable\n",
    "establishments = db['establishments']\n",
    "establishments"
   ]
  },
  {
   "cell_type": "markdown",
   "id": "d5671434",
   "metadata": {},
   "source": [
    "## Part 2: Update the Database"
   ]
  },
  {
   "attachments": {},
   "cell_type": "markdown",
   "id": "314bd884",
   "metadata": {},
   "source": [
    "1. An exciting new halal restaurant just opened in Greenwich, but hasn't been rated yet. The magazine has asked you to include it in your analysis. Add the following restaurant 'Penang Flavours' to the database."
   ]
  },
  {
   "cell_type": "code",
   "execution_count": 161,
   "id": "c2da7648",
   "metadata": {},
   "outputs": [],
   "source": [
    "# Create a dictionary for the new restaurant data\n",
    "new_halal_restaurant = {'AddressLine1': 'London',\n",
    " 'AddressLine2': '172 Woolwich Rd',\n",
    " 'AddressLine3': 'Greenwich',\n",
    " 'AddressLine4': '',\n",
    " 'BusinessName': 'Penang Flavours',\n",
    " 'BusinessType': 'Restaurant/Halal/Breakfast',\n",
    " 'BusinessTypeID': 101,\n",
    " 'ChangesByServerID': 0,\n",
    " 'Distance': 4587.347174863443,\n",
    " 'FHRSID': 254719,\n",
    " 'LocalAuthorityBusinessID': 'PI/000079981',\n",
    " 'LocalAuthorityCode': '182',\n",
    " 'LocalAuthorityEmailAddress': '',\n",
    " 'LocalAuthorityName': '',\n",
    " 'LocalAuthorityWebSite': '',\n",
    " 'NewRatingPending': False,\n",
    " 'Phone': '44 20 8465 5522',\n",
    " 'PostCode': 'SE7 7RA',\n",
    " 'RatingDate': '2023-03-18T00:00:00',\n",
    " 'RatingKey': 'fhrs_5_en-gb',\n",
    " 'RatingValue': '4.3',\n",
    " 'RightToReply': '',\n",
    " 'SchemeType': 'FHRS',\n",
    " '_id': {'ObjectId':('6415f3ce174e8920bf50734e')},\n",
    " 'geocode': {'latitude': '51.4866', 'longitude': '0.0203'},\n",
    " 'links': [{'href': 'https://api.ratings.food.gov.uk/establishments/254719',\n",
    "            'rel': 'self'}],\n",
    " 'meta': {'dataSource': None,\n",
    "          'extractDate': '0001-01-01T00:00:00',\n",
    "          'itemCount': 0,\n",
    "          'pageNumber': 0,\n",
    "          'pageSize': 0,\n",
    "          'returncode': None,\n",
    "          'totalCount': 0,\n",
    "          'totalPages': 0},\n",
    " 'scores': {'ConfidenceInManagement': 3, 'Hygiene': 5, 'Structural': 3}}"
   ]
  },
  {
   "cell_type": "code",
   "execution_count": 162,
   "id": "a6e5cece",
   "metadata": {},
   "outputs": [
    {
     "name": "stdout",
     "output_type": "stream",
     "text": [
      "<pymongo.results.InsertOneResult object at 0x7ff47aebe0a0>\n"
     ]
    }
   ],
   "source": [
    "# Insert the new restaurant into the collection\n",
    "result = establishments.insert_one(new_halal_restaurant)\n",
    "print(result)"
   ]
  },
  {
   "cell_type": "code",
   "execution_count": 163,
   "id": "63bb10f9",
   "metadata": {},
   "outputs": [
    {
     "name": "stdout",
     "output_type": "stream",
     "text": [
      "{'AddressLine1': 'London',\n",
      " 'AddressLine2': '172 Woolwich Rd',\n",
      " 'AddressLine3': 'Greenwich',\n",
      " 'AddressLine4': '',\n",
      " 'BusinessName': 'Penang Flavours',\n",
      " 'BusinessType': 'Restaurant/Halal/Breakfast',\n",
      " 'BusinessTypeID': 101,\n",
      " 'ChangesByServerID': 0,\n",
      " 'Distance': 4587.347174863443,\n",
      " 'FHRSID': 254719,\n",
      " 'LocalAuthorityBusinessID': 'PI/000079981',\n",
      " 'LocalAuthorityCode': '182',\n",
      " 'LocalAuthorityEmailAddress': '',\n",
      " 'LocalAuthorityName': '',\n",
      " 'LocalAuthorityWebSite': '',\n",
      " 'NewRatingPending': False,\n",
      " 'Phone': '44 20 8465 5522',\n",
      " 'PostCode': 'SE7 7RA',\n",
      " 'RatingDate': '2023-03-18T00:00:00',\n",
      " 'RatingKey': 'fhrs_5_en-gb',\n",
      " 'RatingValue': '4.3',\n",
      " 'RightToReply': '',\n",
      " 'SchemeType': 'FHRS',\n",
      " '_id': {'ObjectId': '6415f3ce174e8920bf50734e'},\n",
      " 'geocode': {'latitude': '51.4866', 'longitude': '0.0203'},\n",
      " 'links': [{'href': 'https://api.ratings.food.gov.uk/establishments/254719',\n",
      "            'rel': 'self'}],\n",
      " 'meta': {'dataSource': None,\n",
      "          'extractDate': '0001-01-01T00:00:00',\n",
      "          'itemCount': 0,\n",
      "          'pageNumber': 0,\n",
      "          'pageSize': 0,\n",
      "          'returncode': None,\n",
      "          'totalCount': 0,\n",
      "          'totalPages': 0},\n",
      " 'scores': {'ConfidenceInManagement': 3, 'Hygiene': 5, 'Structural': 3}}\n"
     ]
    }
   ],
   "source": [
    "# Check that the new restaurant was inserted\n",
    "pprint(db.establishments.find_one({'BusinessName': 'Penang Flavours'}))"
   ]
  },
  {
   "attachments": {},
   "cell_type": "markdown",
   "id": "0ef4395a",
   "metadata": {},
   "source": [
    "2. Find the BusinessTypeID for 'Restaurant/Cafe/Canteen' and return only the `BusinessTypeID` and `BusinessType` fields."
   ]
  },
  {
   "cell_type": "code",
   "execution_count": 164,
   "id": "01a88cc3",
   "metadata": {},
   "outputs": [
    {
     "name": "stdout",
     "output_type": "stream",
     "text": [
      "{1: 'Restaurant/Cafe/Canteen',\n",
      " 5: 'Caring Premises',\n",
      " 7: 'Distributors/Transporters',\n",
      " 14: 'Importers/Exporters',\n",
      " 101: 'Restaurant/Halal/Breakfast',\n",
      " 4613: 'Retailers - other',\n",
      " 7838: 'Farmers/growers',\n",
      " 7839: 'Manufacturers/packers',\n",
      " 7840: 'Retailers - supermarkets/hypermarkets',\n",
      " 7841: 'Other catering premises',\n",
      " 7842: 'Hotel/bed & breakfast/guest house',\n",
      " 7843: 'Pub/bar/nightclub',\n",
      " 7844: 'Takeaway/sandwich shop',\n",
      " 7845: 'School/college/university',\n",
      " 7846: 'Mobile caterer'}\n"
     ]
    }
   ],
   "source": [
    "# Find the BusinessTypeID for 'Restaurant/Cafe/Canteen' and return only the BusinessTypeID and BusinessType fields\n",
    "# Create BusinessType fields dictionary\n",
    "bt_id_dict = {}\n",
    "# looking the list under the establishments dictionary\n",
    "bt_list = establishments.find({})\n",
    "# set the BusinessTypeID and BusinessType fields to the dictionary\n",
    "for establishments_dict in bt_list:\n",
    "    bt_id_dict[establishments_dict['BusinessTypeID']] = establishments_dict['BusinessType']\n",
    "pprint(bt_id_dict)\n"
   ]
  },
  {
   "cell_type": "code",
   "execution_count": 165,
   "id": "93bb2947",
   "metadata": {},
   "outputs": [
    {
     "name": "stdout",
     "output_type": "stream",
     "text": [
      "{'BusinessType': 'Restaurant/Cafe/Canteen'}\n",
      "{'BusinessType': 'Restaurant/Halal/Breakfast'}\n",
      "{'BusinessType': 'School/college/university'}\n"
     ]
    }
   ],
   "source": [
    "query = {'BusinessTypeID': 1}\n",
    "btype = {'BusinessType': 1, '_id': 0}\n",
    "result_1 = establishments.find_one(query, btype)\n",
    "pprint(result_1)\n",
    "\n",
    "query_2 = {'BusinessTypeID': 101}\n",
    "btype_2 = {'BusinessType': 1, '_id': 0}\n",
    "result_2 = establishments.find_one(query_2, btype_2)\n",
    "pprint(result_2)\n",
    "\n",
    "query_3 = {'BusinessTypeID': 7845}\n",
    "btype_3 = {'BusinessType': 1, '_id': 0}\n",
    "result_3 = establishments.find_one(query_3, btype_3)\n",
    "pprint(result_3)"
   ]
  },
  {
   "cell_type": "markdown",
   "id": "4e570caf",
   "metadata": {},
   "source": [
    "3. Update the new restaurant with the `BusinessTypeID` you found."
   ]
  },
  {
   "cell_type": "code",
   "execution_count": 166,
   "id": "26cf65e6",
   "metadata": {},
   "outputs": [],
   "source": [
    "# Update the new restaurant with the correct BusinessTypeID\n",
    "query_change = {'BusinessType': 'Restaurant/Halal/Breakfast'}\n",
    "new_id = {'$set': {'BusinessTypeID': 7847}}\n",
    "result = establishments.update_one(query_change, new_id)"
   ]
  },
  {
   "cell_type": "code",
   "execution_count": 167,
   "id": "4836f68d",
   "metadata": {},
   "outputs": [
    {
     "name": "stdout",
     "output_type": "stream",
     "text": [
      "1 document updated.\n",
      "{'AddressLine1': 'London',\n",
      " 'AddressLine2': '172 Woolwich Rd',\n",
      " 'AddressLine3': 'Greenwich',\n",
      " 'AddressLine4': '',\n",
      " 'BusinessName': 'Penang Flavours',\n",
      " 'BusinessType': 'Restaurant/Halal/Breakfast',\n",
      " 'BusinessTypeID': 7847,\n",
      " 'ChangesByServerID': 0,\n",
      " 'Distance': 4587.347174863443,\n",
      " 'FHRSID': 254719,\n",
      " 'LocalAuthorityBusinessID': 'PI/000079981',\n",
      " 'LocalAuthorityCode': '182',\n",
      " 'LocalAuthorityEmailAddress': '',\n",
      " 'LocalAuthorityName': '',\n",
      " 'LocalAuthorityWebSite': '',\n",
      " 'NewRatingPending': False,\n",
      " 'Phone': '44 20 8465 5522',\n",
      " 'PostCode': 'SE7 7RA',\n",
      " 'RatingDate': '2023-03-18T00:00:00',\n",
      " 'RatingKey': 'fhrs_5_en-gb',\n",
      " 'RatingValue': '4.3',\n",
      " 'RightToReply': '',\n",
      " 'SchemeType': 'FHRS',\n",
      " '_id': {'ObjectId': '6415f3ce174e8920bf50734e'},\n",
      " 'geocode': {'latitude': '51.4866', 'longitude': '0.0203'},\n",
      " 'links': [{'href': 'https://api.ratings.food.gov.uk/establishments/254719',\n",
      "            'rel': 'self'}],\n",
      " 'meta': {'dataSource': None,\n",
      "          'extractDate': '0001-01-01T00:00:00',\n",
      "          'itemCount': 0,\n",
      "          'pageNumber': 0,\n",
      "          'pageSize': 0,\n",
      "          'returncode': None,\n",
      "          'totalCount': 0,\n",
      "          'totalPages': 0},\n",
      " 'scores': {'ConfidenceInManagement': 3, 'Hygiene': 5, 'Structural': 3}}\n"
     ]
    }
   ],
   "source": [
    "# Confirm that the new restaurant was updated.\n",
    "print(result.modified_count, \"document updated.\")\n",
    "pprint(db.establishments.find_one({'BusinessName': 'Penang Flavours'}))"
   ]
  },
  {
   "cell_type": "markdown",
   "id": "67281254",
   "metadata": {},
   "source": [
    "4. The magazine is not interested in any establishments in Dover, so check how many documents contain the Dover Local Authority. Then, remove any establishments within the Dover Local Authority from the database, and check the number of documents to ensure they were deleted."
   ]
  },
  {
   "cell_type": "code",
   "execution_count": 168,
   "id": "768474a6",
   "metadata": {},
   "outputs": [
    {
     "name": "stdout",
     "output_type": "stream",
     "text": [
      "Total number of Dover: 0\n"
     ]
    }
   ],
   "source": [
    "# Find how many documents have LocalAuthorityName as 'Dover'\n",
    "doc_dover = establishments.count_documents({'LocalAuthorityName': 'Dover'})\n",
    "print(f\"Total number of Dover: {doc_dover}\")\n"
   ]
  },
  {
   "cell_type": "code",
   "execution_count": 169,
   "id": "a11d5f1b",
   "metadata": {},
   "outputs": [
    {
     "name": "stdout",
     "output_type": "stream",
     "text": [
      "<pymongo.results.DeleteResult object at 0x7ff47bf76870>\n"
     ]
    }
   ],
   "source": [
    "# Delete all documents where LocalAuthorityName is 'Dover'\n",
    "dover_dict = {'LocalAuthorityName': 'Dover'}\n",
    "result = establishments.delete_many(dover_dict)\n",
    "print(result)"
   ]
  },
  {
   "cell_type": "code",
   "execution_count": 170,
   "id": "fcdc38f1",
   "metadata": {},
   "outputs": [
    {
     "name": "stdout",
     "output_type": "stream",
     "text": [
      "None\n"
     ]
    }
   ],
   "source": [
    "# Check if any remaining documents include Dover\n",
    "pprint(db.establishments.find_one({'LocalAuthorityName': 'Dover'}))"
   ]
  },
  {
   "cell_type": "code",
   "execution_count": 171,
   "id": "8c356f7b",
   "metadata": {},
   "outputs": [
    {
     "name": "stdout",
     "output_type": "stream",
     "text": [
      "38786\n"
     ]
    }
   ],
   "source": [
    "# Check that other documents remain with 'find_one'\n",
    "count = establishments.count_documents({})\n",
    "print(count)"
   ]
  },
  {
   "cell_type": "markdown",
   "id": "e9f1662d",
   "metadata": {},
   "source": [
    "5. Some of the number values are stored as strings, when they should be stored as numbers. Use `update_many` to convert `latitude` and `longitude` to decimal numbers."
   ]
  },
  {
   "cell_type": "code",
   "execution_count": 183,
   "id": "fd4112ce",
   "metadata": {},
   "outputs": [
    {
     "name": "stdout",
     "output_type": "stream",
     "text": [
      "{'geocode': 1, 'latitude': {'$exists': True}}\n"
     ]
    }
   ],
   "source": [
    "# Change the data type from String to Decimal for latitude\n",
    "query = {'geocode': 1,'latitude': {'$exists': True}}\n",
    "# lat = {'geocode': 1, 'latitude': 1, '_id': 0}\n",
    "# result = establishments.find(query, lat)\n",
    "print(query)\n",
    "# for data in result:\n",
    "#     convert = data['geocode']\n",
    "#     old_latitude = data['latitude']\n",
    "#     new_latitude = data['latitude']\n",
    "#     print(f\"Geocode: {convert}, Latitude: {new_latitude}\")\n",
    "# print(result)\n"
   ]
  },
  {
   "cell_type": "code",
   "execution_count": 177,
   "id": "08dd7c72",
   "metadata": {},
   "outputs": [
    {
     "name": "stdout",
     "output_type": "stream",
     "text": [
      "<pymongo.cursor.Cursor object at 0x7ff448887690>\n"
     ]
    }
   ],
   "source": [
    "# Change the data type from String to Decimal for longitude\n",
    "log_query = {'geocode': 1,'longitude': {'$exists': True}}\n",
    "log = {'geocode': 1, 'longitude': 1}\n",
    "log_result = establishments.find(log_query, log)\n",
    "\n",
    "for log_data in log_result:\n",
    "    convert = log_data['geocode']\n",
    "    old_longitude = log_data['longitude']\n",
    "    new_longitude = Decimal(old_longitude)\n",
    "    establishments.update_one({'geocode': convert}, {'$set': {'longitude': new_longitude}})\n",
    "print(log_result)"
   ]
  },
  {
   "cell_type": "code",
   "execution_count": 149,
   "id": "0deacaf9",
   "metadata": {},
   "outputs": [],
   "source": [
    "# Check that the coordinates are now numbers\n"
   ]
  }
 ],
 "metadata": {
  "kernelspec": {
   "display_name": "Python 3",
   "language": "python",
   "name": "python3"
  },
  "language_info": {
   "codemirror_mode": {
    "name": "ipython",
    "version": 3
   },
   "file_extension": ".py",
   "mimetype": "text/x-python",
   "name": "python",
   "nbconvert_exporter": "python",
   "pygments_lexer": "ipython3",
   "version": "3.7.7"
  }
 },
 "nbformat": 4,
 "nbformat_minor": 5
}
